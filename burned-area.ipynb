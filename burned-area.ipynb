{
 "cells": [
  {
   "cell_type": "markdown",
   "metadata": {},
   "source": [
    "## Burned area"
   ]
  },
  {
   "cell_type": "code",
   "execution_count": 17,
   "metadata": {},
   "outputs": [],
   "source": [
    "workflow = dict([('id', 'burned-area'),\n",
    "                ('label', 'Sentinel-2 burned area'),\n",
    "                ('doc', 'Sentinel-2 burned area with NDVI/NDWI threshold')])\n"
   ]
  },
  {
   "cell_type": "code",
   "execution_count": 18,
   "metadata": {},
   "outputs": [],
   "source": [
    "ndvi_threshold = dict([('id', 'ndvi_threshold'),\n",
    "                       ('value', '0.19'),\n",
    "                       ('label', 'NDVI difference threshold'),\n",
    "                       ('doc', 'NDVI difference threshold'),\n",
    "                       ('type', 'string')])"
   ]
  },
  {
   "cell_type": "code",
   "execution_count": 19,
   "metadata": {},
   "outputs": [],
   "source": [
    "ndwi_threshold = dict([('id', 'ndwi_threshold'),\n",
    "                       ('value', '0.18'),\n",
    "                       ('label', 'NDWI difference threshold'),\n",
    "                       ('doc', 'NDWI difference threshold'),\n",
    "                       ('type', 'string')])"
   ]
  },
  {
   "cell_type": "code",
   "execution_count": 20,
   "metadata": {},
   "outputs": [],
   "source": [
    "pre_event = dict([('id', 'pre_event'),\n",
    "                  ('label', 'Sentinel-2 Level-2A pre-event'),\n",
    "                  ('doc', 'Sentinel-2 Level-2A pre-event acquisition'),\n",
    "                  ('value', '/workspace/ogc-tb16/wdir/5qoilug5'), \n",
    "                  ('type', 'Directory')])"
   ]
  },
  {
   "cell_type": "code",
   "execution_count": 21,
   "metadata": {},
   "outputs": [],
   "source": [
    "post_event = dict([('id', 'post_event'),\n",
    "                  ('label', 'Sentinel-2 Level-2A post-event'),\n",
    "                  ('doc', 'Sentinel-2 Level-2A post-event acquisition'),\n",
    "                  ('value', '/workspace/ogc-tb16/wdir/gclw8a9w/'), \n",
    "                  ('type', 'Directory')])"
   ]
  },
  {
   "cell_type": "code",
   "execution_count": 32,
   "metadata": {},
   "outputs": [],
   "source": [
    "aoi = dict([('id', 'aoi'), \n",
    "              ('label', 'Area of interest'),\n",
    "              ('doc', 'Area of interest in WKT'),\n",
    "              ('value', 'POLYGON((136.508 -36.108,136.508 -35.654,137.178 -35.654,137.178 -36.108,136.508 -36.108))'), \n",
    "              ('type', 'string')])"
   ]
  },
  {
   "cell_type": "code",
   "execution_count": 34,
   "metadata": {},
   "outputs": [],
   "source": [
    "import os\n",
    "import sys\n",
    "import gdal\n",
    "import numpy as np\n",
    "import logging\n",
    "from pystac import *\n",
    "from time import sleep\n",
    "from helpers import * \n",
    "from shapely.wkt import loads\n",
    "\n",
    "gdal.UseExceptions()\n",
    "\n",
    "if not 'PREFIX' in os.environ.keys():\n",
    "    \n",
    "    os.environ['PREFIX'] = '/opt/anaconda/envs/env_burned_area/'\n",
    "\n",
    "os.environ['GDAL_DATA'] =  os.path.join(os.environ['PREFIX'], 'share/gdal')\n",
    "os.environ['PROJ_LIB'] = os.path.join(os.environ['PREFIX'], 'share/proj')"
   ]
  },
  {
   "cell_type": "code",
   "execution_count": 35,
   "metadata": {},
   "outputs": [
    {
     "name": "stdout",
     "output_type": "stream",
     "text": [
      "The autoreload extension is already loaded. To reload it, use:\n",
      "  %reload_ext autoreload\n"
     ]
    }
   ],
   "source": [
    "%load_ext autoreload\n",
    "%autoreload 2"
   ]
  },
  {
   "cell_type": "code",
   "execution_count": 36,
   "metadata": {},
   "outputs": [],
   "source": [
    "pre_s2 = os.path.join(pre_event['value'], 'catalog.json')\n",
    "post_s2 = os.path.join(post_event['value'], 'catalog.json')"
   ]
  },
  {
   "cell_type": "code",
   "execution_count": 37,
   "metadata": {},
   "outputs": [],
   "source": [
    "s2_items = dict()\n",
    "\n",
    "s2_items['pre-event'] =  get_item(pre_s2)\n",
    "s2_items['post-event'] = get_item(post_s2)"
   ]
  },
  {
   "cell_type": "code",
   "execution_count": 38,
   "metadata": {},
   "outputs": [],
   "source": [
    "min_lon, min_lat, max_lon, max_lat = loads(aoi['value']).bounds\n",
    "\n",
    "for key, s2_item in s2_items.items():\n",
    "\n",
    "    logging.info('Stacking bands for input {}'.format(key))\n",
    "    vrt_bands = []\n",
    "\n",
    "    for band in ['B04', 'B08', 'B11', 'SCL']:\n",
    "\n",
    "        vrt_bands.append(s2_item.assets[band].get_absolute_href())\n",
    "\n",
    "    vrt = '{}.vrt'.format(key)\n",
    "    tif = '{}.tif'.format(key)\n",
    "\n",
    "    logging.info('Build vrt for {}'.format(key))\n",
    "\n",
    "    ds = gdal.BuildVRT(vrt,\n",
    "                       vrt_bands,\n",
    "                       srcNodata=0,\n",
    "                       xRes=10, \n",
    "                       yRes=10,\n",
    "                       separate=True)\n",
    "    ds.FlushCache()\n",
    "\n",
    "\n",
    "    logging.info('Translate {}'.format(key))\n",
    "\n",
    "    gdal.Translate(tif,\n",
    "                   vrt,\n",
    "                   outputType=gdal.GDT_UInt16,\n",
    "                  projWin=[min_lon, max_lat, max_lon, min_lat],\n",
    "                  projWinSRS='EPSG:4326')\n",
    " \n",
    "    os.remove(vrt)"
   ]
  },
  {
   "cell_type": "code",
   "execution_count": 39,
   "metadata": {},
   "outputs": [],
   "source": [
    "ds = gdal.Open('pre-event.tif')\n",
    "\n",
    "pre_b04 = ds.GetRasterBand(1).ReadAsArray()\n",
    "pre_b08 = ds.GetRasterBand(2).ReadAsArray()\n",
    "pre_b11 = ds.GetRasterBand(3).ReadAsArray()\n",
    "pre_scl = ds.GetRasterBand(4).ReadAsArray()\n",
    "\n",
    "ds = None\n",
    "\n",
    "os.remove('pre-event.tif')"
   ]
  },
  {
   "cell_type": "code",
   "execution_count": 40,
   "metadata": {},
   "outputs": [],
   "source": [
    "ds = gdal.Open('post-event.tif')\n",
    "\n",
    "post_b04 = ds.GetRasterBand(1).ReadAsArray()\n",
    "post_b08 = ds.GetRasterBand(2).ReadAsArray()\n",
    "post_b11 = ds.GetRasterBand(3).ReadAsArray()\n",
    "post_scl = ds.GetRasterBand(4).ReadAsArray()\n",
    "\n",
    "width = ds.RasterXSize\n",
    "height = ds.RasterYSize\n",
    "\n",
    "input_geotransform = ds.GetGeoTransform()\n",
    "input_georef = ds.GetProjectionRef()\n",
    "\n",
    "ds = None\n",
    "\n",
    "os.remove('post-event.tif')"
   ]
  },
  {
   "cell_type": "code",
   "execution_count": 41,
   "metadata": {},
   "outputs": [],
   "source": [
    "gain = 10000\n",
    "\n",
    "pre_ndwi2 = (pre_b08 / gain - pre_b11 / gain) / (pre_b08 / gain  + pre_b11 / gain)\n",
    "post_ndwi2 = (post_b08 / gain - post_b11 / gain) / (post_b08 / gain + post_b11 / gain)\n",
    "\n",
    "pre_b11 = None\n",
    "post_b11 = None\n",
    "\n",
    "pre_ndvi = (pre_b08 / gain - pre_b04 / gain) / (pre_b08 / gain  + pre_b04 / gain)\n",
    "post_ndvi = (post_b08 / gain - post_b04 / gain) / (post_b08 / gain + post_b04 / gain)\n",
    "\n",
    "pre_b04 = None\n",
    "post_b04 = None\n",
    "\n",
    "pre_b08 = None\n",
    "post_b08 = None\n",
    "\n",
    "conditions = (((post_ndwi2 - pre_ndwi2) > float(ndwi_threshold['value'])) & ((post_ndvi - pre_ndvi) > float(ndvi_threshold['value'])) & (pre_scl == 4) | (post_scl == 4))  \n",
    "\n",
    "burned = np.zeros((height, width), dtype=np.uint8) \n",
    "\n",
    "burned[conditions] = 1\n",
    "\n",
    "pre_ndwi2 = None\n",
    "post_ndwi2 = None\n",
    "\n",
    "pre_ndvi = None\n",
    "post_ndvi = None\n",
    "\n",
    "burned[np.where((pre_scl == 0) | (post_scl == 0) | (pre_scl == 1) | (post_scl == 1) | (pre_scl == 5) | (post_scl == 5) | (pre_scl == 6) | (post_scl == 6) | (pre_scl == 7) | (post_scl == 7) | (pre_scl == 8) | (post_scl == 8) | (pre_scl == 9) | (post_scl == 9))] = 2 "
   ]
  },
  {
   "cell_type": "code",
   "execution_count": 42,
   "metadata": {},
   "outputs": [],
   "source": [
    "output_name = 'S2_BURNED_AREA_{}'.format('_'.join([s2_item.datetime.strftime(\"%Y%m%d\") for key, s2_item in s2_items.items()])) \n",
    "\n",
    "write_tif(burned, '{}.tif'.format(output_name),\n",
    "          width,\n",
    "          height,\n",
    "          input_geotransform,\n",
    "          input_georef)"
   ]
  },
  {
   "cell_type": "code",
   "execution_count": 43,
   "metadata": {},
   "outputs": [
    {
     "data": {
      "text/plain": [
       "<Catalog id=catalog>"
      ]
     },
     "execution_count": 43,
     "metadata": {},
     "output_type": "execute_result"
    }
   ],
   "source": [
    "catalog = Catalog(id='catalog', description='Results')\n",
    "\n",
    "catalog.clear_items()\n",
    "catalog.clear_children()"
   ]
  },
  {
   "cell_type": "code",
   "execution_count": 44,
   "metadata": {},
   "outputs": [],
   "source": [
    "result_titles = dict()\n",
    "\n",
    "result_titles[output_name] = {'title': 'Burned area analysis from Sentinel-2',\n",
    "                              'media_type': MediaType.COG}\n",
    "\n",
    "\n",
    "\n",
    "items = []\n",
    "\n",
    "for key, value in result_titles.items():\n",
    "\n",
    "    result_item = Item(id=key,\n",
    "                       geometry=s2_items['pre-event'].geometry,\n",
    "                       bbox=s2_items['pre-event'].bbox,\n",
    "                       datetime=s2_items['pre-event'].datetime,\n",
    "                       properties={})\n",
    "\n",
    "    result_item.add_asset(key='data',\n",
    "                          asset=Asset(href='./{}.tif'.format(key), \n",
    "                          media_type=value['media_type'], \n",
    "                          title=value['title']))\n",
    "\n",
    "    items.append(result_item)\n",
    "\n",
    "#collection.add_items(items)\n",
    "\n",
    "catalog.add_items(items)"
   ]
  },
  {
   "cell_type": "code",
   "execution_count": 45,
   "metadata": {},
   "outputs": [
    {
     "name": "stdout",
     "output_type": "stream",
     "text": [
      "* <Catalog id=catalog>\n",
      "  * <Item id=S2_BURNED_AREA_20200130_20201006>\n"
     ]
    }
   ],
   "source": [
    "catalog.describe()\n",
    "\n",
    "catalog.normalize_and_save(root_href='./',\n",
    "                           catalog_type=CatalogType.SELF_CONTAINED)"
   ]
  },
  {
   "cell_type": "code",
   "execution_count": 46,
   "metadata": {},
   "outputs": [
    {
     "data": {
      "text/plain": [
       "'./S2_BURNED_AREA_20200130_20201006/S2_BURNED_AREA_20200130_20201006.tif'"
      ]
     },
     "execution_count": 46,
     "metadata": {},
     "output_type": "execute_result"
    }
   ],
   "source": [
    "shutil.move('{}.tif'.format(output_name), \n",
    "        os.path.join('./',\n",
    "                     output_name,\n",
    "                     '{}.tif'.format(output_name)))"
   ]
  },
  {
   "cell_type": "code",
   "execution_count": null,
   "metadata": {},
   "outputs": [],
   "source": []
  },
  {
   "cell_type": "code",
   "execution_count": null,
   "metadata": {},
   "outputs": [],
   "source": []
  }
 ],
 "metadata": {
  "kernelspec": {
   "display_name": "Python [conda env:env_burned_area]",
   "language": "python",
   "name": "conda-env-env_burned_area-py"
  },
  "language_info": {
   "codemirror_mode": {
    "name": "ipython",
    "version": 3
   },
   "file_extension": ".py",
   "mimetype": "text/x-python",
   "name": "python",
   "nbconvert_exporter": "python",
   "pygments_lexer": "ipython3",
   "version": "3.7.8"
  }
 },
 "nbformat": 4,
 "nbformat_minor": 4
}
