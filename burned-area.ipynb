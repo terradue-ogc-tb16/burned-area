{
 "cells": [
  {
   "cell_type": "markdown",
   "metadata": {},
   "source": [
    "## Burned area"
   ]
  },
  {
   "cell_type": "code",
   "execution_count": 63,
   "metadata": {},
   "outputs": [],
   "source": [
    "workflow = dict([('id', 'burned-area'),\n",
    "                ('label', 'Burned area delineation'),\n",
    "                ('doc', 'Burned area delineation using two techniques')])\n"
   ]
  },
  {
   "cell_type": "code",
   "execution_count": 71,
   "metadata": {},
   "outputs": [],
   "source": [
    "pre_event = dict([('id', 'pre_event'), \n",
    "                  ('label', 'Pre-event product for burned area delineation'),\n",
    "                  ('doc', 'Pre-event product for burned area delineation'),\n",
    "                  ('value', '/workspace/application-chaining/jn0iisx4/stac-results/catalog.json'), \n",
    "                  ('type', 'Directory')])"
   ]
  },
  {
   "cell_type": "code",
   "execution_count": 72,
   "metadata": {},
   "outputs": [],
   "source": [
    "post_event = dict([('id', 'post_event'), \n",
    "                  ('label', 'Post-event product for burned area delineation'),\n",
    "                  ('doc', 'Post-event product for burned area delineation'),\n",
    "                  ('value', '/workspace/application-chaining/o27byuyx/stac-results/catalog.json'), \n",
    "                  ('type', 'Directory')])"
   ]
  },
  {
   "cell_type": "code",
   "execution_count": 73,
   "metadata": {},
   "outputs": [],
   "source": [
    "ndvi_threshold = dict([('id', 'ndvi_threshold'),\n",
    "                       ('value', '0.19'),\n",
    "                       ('label', 'NDVI difference threshold'),\n",
    "                       ('doc', 'NDVI difference threshold'),\n",
    "                       ('type', 'string')]) "
   ]
  },
  {
   "cell_type": "code",
   "execution_count": 74,
   "metadata": {},
   "outputs": [],
   "source": [
    "ndwi_threshold = dict([('id', 'ndwi_threshold'),\n",
    "                       ('value', '0.18'),\n",
    "                       ('label', 'NDWI difference threshold'),\n",
    "                       ('doc', 'NDWI difference threshold'),\n",
    "                       ('type', 'string')]) "
   ]
  },
  {
   "cell_type": "code",
   "execution_count": 75,
   "metadata": {},
   "outputs": [],
   "source": [
    "aoi = dict([('id', 'aoi'), \n",
    "              ('label', 'Area of interest'),\n",
    "              ('doc', 'Area of interest in WKT'),\n",
    "              ('value', 'POLYGON((136.508 -36.108,136.508 -35.654,137.178 -35.654,137.178 -36.108,136.508 -36.108))'), \n",
    "              ('type', 'string')])"
   ]
  },
  {
   "cell_type": "code",
   "execution_count": 76,
   "metadata": {},
   "outputs": [],
   "source": [
    "import os\n",
    "import sys\n",
    "import gdal\n",
    "import numpy as np\n",
    "import logging\n",
    "from pystac import Catalog, Collection, EOItem, MediaType, EOAsset, CatalogType\n",
    "from time import sleep\n",
    "from shapely.wkt import loads\n",
    "\n",
    "gdal.UseExceptions()\n",
    "\n",
    "if not 'PREFIX' in os.environ.keys():\n",
    "    \n",
    "    os.environ['PREFIX'] = '/opt/anaconda/envs/env_nbr/'\n",
    "\n",
    "os.environ['GDAL_DATA'] =  os.path.join(os.environ['PREFIX'], 'share/gdal')\n",
    "os.environ['PROJ_LIB'] = os.path.join(os.environ['PREFIX'], 'share/proj')"
   ]
  },
  {
   "cell_type": "code",
   "execution_count": 77,
   "metadata": {},
   "outputs": [
    {
     "name": "stdout",
     "output_type": "stream",
     "text": [
      "The autoreload extension is already loaded. To reload it, use:\n",
      "  %reload_ext autoreload\n"
     ]
    }
   ],
   "source": [
    "%load_ext autoreload\n",
    "%autoreload 2"
   ]
  },
  {
   "cell_type": "code",
   "execution_count": 78,
   "metadata": {},
   "outputs": [],
   "source": [
    "pre_event_cat = Catalog.from_file(pre_event['value'])\n",
    "post_event_cat = Catalog.from_file(post_event['value'])"
   ]
  },
  {
   "cell_type": "code",
   "execution_count": 79,
   "metadata": {},
   "outputs": [
    {
     "data": {
      "text/plain": [
       "{'nbr': <EOAsset href=./NBR_S2A_MSIL2A_20191216T004701_N0213_R102_T53HPA_20191216T024808.tif>,\n",
       " 'ndvi': <EOAsset href=./NDVI_S2A_MSIL2A_20191216T004701_N0213_R102_T53HPA_20191216T024808.tif>,\n",
       " 'ndwi': <EOAsset href=./NDWI_S2A_MSIL2A_20191216T004701_N0213_R102_T53HPA_20191216T024808.tif>}"
      ]
     },
     "execution_count": 79,
     "metadata": {},
     "output_type": "execute_result"
    }
   ],
   "source": [
    "pre_event_item = next(pre_event_cat.get_items())\n",
    "\n",
    "pre_event_item.assets"
   ]
  },
  {
   "cell_type": "code",
   "execution_count": 80,
   "metadata": {},
   "outputs": [
    {
     "data": {
      "text/plain": [
       "{'nbr': <EOAsset href=./NBR_S2B_MSIL2A_20200130T004659_N0213_R102_T53HPA_20200130T022348.tif>,\n",
       " 'ndvi': <EOAsset href=./NDVI_S2B_MSIL2A_20200130T004659_N0213_R102_T53HPA_20200130T022348.tif>,\n",
       " 'ndwi': <EOAsset href=./NDWI_S2B_MSIL2A_20200130T004659_N0213_R102_T53HPA_20200130T022348.tif>}"
      ]
     },
     "execution_count": 80,
     "metadata": {},
     "output_type": "execute_result"
    }
   ],
   "source": [
    "post_event_item = next(post_event_cat.get_items())\n",
    "\n",
    "post_event_item.assets"
   ]
  },
  {
   "cell_type": "code",
   "execution_count": 81,
   "metadata": {},
   "outputs": [],
   "source": [
    "min_lon, min_lat, max_lon, max_lat = loads(aoi['value']).bounds"
   ]
  },
  {
   "cell_type": "code",
   "execution_count": 82,
   "metadata": {},
   "outputs": [
    {
     "data": {
      "text/plain": [
       "0.0001"
      ]
     },
     "execution_count": 82,
     "metadata": {},
     "output_type": "execute_result"
    }
   ],
   "source": [
    "scaling_factor = 1/10000\n",
    "\n",
    "scaling_factor"
   ]
  },
  {
   "cell_type": "markdown",
   "metadata": {},
   "source": [
    "If NDWI i2 - NDWI i1 > 0.18 and If NDVI i2 - NDVI i1 > 0.19 then burned pixels"
   ]
  },
  {
   "cell_type": "code",
   "execution_count": 83,
   "metadata": {},
   "outputs": [],
   "source": [
    "_mem = '/vsimem/mem.tif'"
   ]
  },
  {
   "cell_type": "markdown",
   "metadata": {},
   "source": [
    "Process NDVI difference"
   ]
  },
  {
   "cell_type": "code",
   "execution_count": 104,
   "metadata": {},
   "outputs": [],
   "source": [
    "temp_ds = gdal.Translate(_mem,\n",
    "                         pre_event_item.assets['ndvi'].get_absolute_href(),\n",
    "                         projWin=[min_lon, max_lat, max_lon, min_lat],\n",
    "                         projWinSRS='EPSG:4326',\n",
    "                         outputType=gdal.GDT_Int16)\n",
    "\n",
    "width = temp_ds.RasterXSize\n",
    "height = temp_ds.RasterYSize\n",
    "geo_transform = temp_ds.GetGeoTransform()\n",
    "geo_ref = temp_ds.GetProjectionRef()\n",
    "\n",
    "pre_ndvi = temp_ds.ReadAsArray()\n",
    "\n",
    "temp_ds = None"
   ]
  },
  {
   "cell_type": "code",
   "execution_count": 85,
   "metadata": {},
   "outputs": [],
   "source": [
    "temp_ds = gdal.Translate(_mem,\n",
    "                         post_event_item.assets['ndvi'].get_absolute_href(),\n",
    "                         projWin=[min_lon, max_lat, max_lon, min_lat],\n",
    "                         projWinSRS='EPSG:4326',\n",
    "                         outputType=gdal.GDT_Int16)\n",
    "\n",
    "post_ndvi = temp_ds.ReadAsArray()\n",
    "\n",
    "temp_ds = None"
   ]
  },
  {
   "cell_type": "code",
   "execution_count": 86,
   "metadata": {},
   "outputs": [],
   "source": [
    "delta_ndvi = ((pre_ndvi - post_ndvi) * scaling_factor).astype(float)\n",
    "\n",
    "pre_ndvi = post_ndvi = None"
   ]
  },
  {
   "cell_type": "markdown",
   "metadata": {},
   "source": [
    "Process NDWI difference"
   ]
  },
  {
   "cell_type": "code",
   "execution_count": 91,
   "metadata": {},
   "outputs": [],
   "source": [
    "temp_ds = gdal.Translate(_mem,\n",
    "                         pre_event_item.assets['ndwi'].get_absolute_href(),\n",
    "                         projWin=[min_lon, max_lat, max_lon, min_lat],\n",
    "                         projWinSRS='EPSG:4326',\n",
    "                         outputType=gdal.GDT_Int16)\n",
    "\n",
    "pre_ndwi = temp_ds.ReadAsArray()\n",
    "\n",
    "temp_ds = None"
   ]
  },
  {
   "cell_type": "code",
   "execution_count": 92,
   "metadata": {},
   "outputs": [],
   "source": [
    "temp_ds = gdal.Translate(_mem,\n",
    "                         post_event_item.assets['ndwi'].get_absolute_href(),\n",
    "                         projWin=[min_lon, max_lat, max_lon, min_lat],\n",
    "                         projWinSRS='EPSG:4326',\n",
    "                         outputType=gdal.GDT_Int16)\n",
    "\n",
    "post_ndwi = temp_ds.ReadAsArray()\n",
    "\n",
    "temp_ds = None"
   ]
  },
  {
   "cell_type": "code",
   "execution_count": 93,
   "metadata": {},
   "outputs": [],
   "source": [
    "delta_ndwi = ((pre_ndwi - post_ndwi) * scaling_factor).astype(float)\n",
    "\n",
    "pre_ndwi = post_ndwi = None"
   ]
  },
  {
   "cell_type": "markdown",
   "metadata": {},
   "source": [
    "Burned area delineation"
   ]
  },
  {
   "cell_type": "code",
   "execution_count": 94,
   "metadata": {},
   "outputs": [],
   "source": [
    "conditions = lambda delta_ndwi, ndwi_threshold, delta_ndvi, ndvi_threshold: 1 if ((delta_ndwi  > float(ndwi_threshold)) & (delta_ndvi > float(ndvi_threshold))) else 0\n",
    "                             \n",
    "vfunc_conditions = np.vectorize(conditions, otypes=[np.uint8])"
   ]
  },
  {
   "cell_type": "code",
   "execution_count": 95,
   "metadata": {},
   "outputs": [],
   "source": [
    "burned = vfunc_conditions(delta_ndwi,\n",
    "                          ndwi_threshold['value'], \n",
    "                          delta_ndvi, \n",
    "                          ndvi_threshold['value']) "
   ]
  },
  {
   "cell_type": "code",
   "execution_count": 96,
   "metadata": {},
   "outputs": [],
   "source": [
    "def cog(input_tif, output_tif,no_data=None):\n",
    "    \n",
    "    translate_options = gdal.TranslateOptions(gdal.ParseCommandLine('-co TILED=YES ' \\\n",
    "                                                                    '-co COPY_SRC_OVERVIEWS=YES ' \\\n",
    "                                                                    '-co COMPRESS=LZW '))\n",
    "    \n",
    "    if no_data != None:\n",
    "        translate_options = gdal.TranslateOptions(gdal.ParseCommandLine('-co TILED=YES ' \\\n",
    "                                                                        '-co COPY_SRC_OVERVIEWS=YES ' \\\n",
    "                                                                        '-co COMPRESS=LZW '\\\n",
    "                                                                        '-a_nodata {}'.format(no_data)))\n",
    "    ds = gdal.Open(input_tif, gdal.OF_READONLY)\n",
    "\n",
    "    gdal.SetConfigOption('COMPRESS_OVERVIEW', 'DEFLATE')\n",
    "    ds.BuildOverviews('NEAREST', [2,4,8,16,32])\n",
    "    \n",
    "    ds = None\n",
    "\n",
    "    ds = gdal.Open(input_tif)\n",
    "    gdal.Translate(output_tif,\n",
    "                   ds, \n",
    "                   options=translate_options)\n",
    "    ds = None\n",
    "\n",
    "    os.remove('{}.ovr'.format(input_tif))\n",
    "    os.remove(input_tif)\n"
   ]
  },
  {
   "cell_type": "code",
   "execution_count": null,
   "metadata": {},
   "outputs": [],
   "source": []
  },
  {
   "cell_type": "code",
   "execution_count": 25,
   "metadata": {},
   "outputs": [
    {
     "data": {
      "text/plain": [
       "<Catalog id=catalog>"
      ]
     },
     "execution_count": 25,
     "metadata": {},
     "output_type": "execute_result"
    }
   ],
   "source": [
    "catalog = Catalog(id='catalog', description='Results')\n",
    "\n",
    "catalog.clear_items()\n",
    "catalog.clear_children()"
   ]
  },
  {
   "cell_type": "code",
   "execution_count": 26,
   "metadata": {},
   "outputs": [],
   "source": [
    "output_name = 'DELINEATION'"
   ]
  },
  {
   "cell_type": "code",
   "execution_count": 111,
   "metadata": {},
   "outputs": [],
   "source": [
    "bands = [{'name': 'VI_THRESHOLD',\n",
    "          'common_name': ''}, \n",
    "         {'name': 'RBR',\n",
    "          'common_name': ''}\n",
    "        ]"
   ]
  },
  {
   "cell_type": "code",
   "execution_count": 27,
   "metadata": {},
   "outputs": [],
   "source": [
    "result_item = EOItem(id=output_name,\n",
    "                     geometry=item.geometry,\n",
    "                     bbox=item.bbox,\n",
    "                     datetime=item.datetime,\n",
    "                     properties={},\n",
    "                     bands=bands,\n",
    "                     gsd=10, \n",
    "                     platform=item.platform, \n",
    "                     instrument=item.instrument)"
   ]
  },
  {
   "cell_type": "code",
   "execution_count": 105,
   "metadata": {},
   "outputs": [],
   "source": [
    "temp_name = '_BURNED_NDVI_NDWI_THRESHOLD.tif'\n",
    "output_name = 'BURNED_NDVI_NDWI_THRESHOLD.tif'\n",
    "\n",
    "driver = gdal.GetDriverByName('GTiff')\n",
    "\n",
    "output = driver.Create(temp_name, \n",
    "                       width, \n",
    "                       height, \n",
    "                       1, \n",
    "                       gdal.GDT_Byte)\n",
    "\n",
    "output.SetGeoTransform(geo_transform)\n",
    "output.SetProjection(geo_ref)\n",
    "output.GetRasterBand(1).WriteArray(burned),\n",
    "\n",
    "output.FlushCache()\n",
    "\n",
    "sleep(5)\n",
    "\n",
    "output = None\n",
    "\n",
    "del(output)\n",
    "\n",
    "cog(temp_name, output_name)"
   ]
  },
  {
   "cell_type": "markdown",
   "metadata": {},
   "source": [
    "relativized burn ratio (RBR) "
   ]
  },
  {
   "cell_type": "code",
   "execution_count": 106,
   "metadata": {},
   "outputs": [],
   "source": [
    "temp_ds = gdal.Translate(_mem,\n",
    "                         pre_event_item.assets['nbr'].get_absolute_href(),\n",
    "                         projWin=[min_lon, max_lat, max_lon, min_lat],\n",
    "                         projWinSRS='EPSG:4326',\n",
    "                         outputType=gdal.GDT_Int16)\n",
    "\n",
    "pre_nbr = temp_ds.ReadAsArray()\n",
    "\n",
    "temp_ds = None"
   ]
  },
  {
   "cell_type": "code",
   "execution_count": 107,
   "metadata": {},
   "outputs": [],
   "source": [
    "temp_ds = gdal.Translate(_mem,\n",
    "                         post_event_item.assets['nbr'].get_absolute_href(),\n",
    "                         projWin=[min_lon, max_lat, max_lon, min_lat],\n",
    "                         projWinSRS='EPSG:4326',\n",
    "                         outputType=gdal.GDT_Int16)\n",
    "\n",
    "post_nbr = temp_ds.ReadAsArray()\n",
    "\n",
    "temp_ds = None"
   ]
  },
  {
   "cell_type": "code",
   "execution_count": 108,
   "metadata": {},
   "outputs": [],
   "source": [
    "delta_nbr = ((pre_nbr  - post_nbr) * scaling_factor).astype(float)\n",
    "\n",
    "post_nbr = None"
   ]
  },
  {
   "cell_type": "code",
   "execution_count": 109,
   "metadata": {},
   "outputs": [],
   "source": [
    "rbr = delta_nbr / (pre_nbr * scaling_factor + 1.001)\n",
    "\n",
    "delta_nbr = pre_nbr = None"
   ]
  },
  {
   "cell_type": "code",
   "execution_count": 110,
   "metadata": {},
   "outputs": [],
   "source": [
    "temp_name = '_BURNED_RBR.tif'\n",
    "output_name = 'BURNED_RBR.tif'\n",
    "\n",
    "driver = gdal.GetDriverByName('GTiff')\n",
    "\n",
    "output = driver.Create(temp_name, \n",
    "                       width, \n",
    "                       height, \n",
    "                       1, \n",
    "                       gdal.GDT_Float32)\n",
    "\n",
    "output.SetGeoTransform(geo_transform)\n",
    "output.SetProjection(geo_ref)\n",
    "output.GetRasterBand(1).WriteArray(rbr),\n",
    "\n",
    "output.FlushCache()\n",
    "\n",
    "sleep(5)\n",
    "\n",
    "output = None\n",
    "\n",
    "del(output)\n",
    "\n",
    "cog(temp_name, output_name)"
   ]
  },
  {
   "cell_type": "code",
   "execution_count": 29,
   "metadata": {},
   "outputs": [],
   "source": [
    "catalog.add_items([result_item])"
   ]
  },
  {
   "cell_type": "code",
   "execution_count": 31,
   "metadata": {},
   "outputs": [],
   "source": [
    "catalog.normalize_and_save(root_href='stac-results',\n",
    "                           catalog_type=CatalogType.SELF_CONTAINED)"
   ]
  },
  {
   "cell_type": "code",
   "execution_count": 32,
   "metadata": {},
   "outputs": [
    {
     "name": "stdout",
     "output_type": "stream",
     "text": [
      "* <Catalog id=catalog>\n",
      "  * <EOItem id=INDEX_S2B_MSIL2A_20200130T004659_N0213_R102_T53HPA_20200130T022348>\n"
     ]
    }
   ],
   "source": [
    "catalog.describe()"
   ]
  },
  {
   "cell_type": "code",
   "execution_count": null,
   "metadata": {},
   "outputs": [],
   "source": []
  }
 ],
 "metadata": {
  "kernelspec": {
   "display_name": "env_s3",
   "language": "python",
   "name": "env_s3"
  },
  "language_info": {
   "codemirror_mode": {
    "name": "ipython",
    "version": 3
   },
   "file_extension": ".py",
   "mimetype": "text/x-python",
   "name": "python",
   "nbconvert_exporter": "python",
   "pygments_lexer": "ipython3",
   "version": "3.5.6"
  }
 },
 "nbformat": 4,
 "nbformat_minor": 4
}
